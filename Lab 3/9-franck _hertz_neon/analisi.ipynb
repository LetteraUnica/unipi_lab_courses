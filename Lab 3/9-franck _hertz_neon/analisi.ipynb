{
 "cells": [
  {
   "cell_type": "code",
   "execution_count": 23,
   "metadata": {},
   "outputs": [
    {
     "name": "stdout",
     "output_type": "stream",
     "text": [
      "[25.5        41.16666667 55.16666667] [1.41421356 3.56941742 7.04877189]\n",
      "18.16666666666666 [[11.72955707         nan]\n",
      " [        nan 25.97138602]]\n"
     ]
    },
    {
     "name": "stderr",
     "output_type": "stream",
     "text": [
      "C:\\Users\\ilari\\Anaconda3\\lib\\site-packages\\ipykernel_launcher.py:20: RuntimeWarning: invalid value encountered in sqrt\n"
     ]
    }
   ],
   "source": [
    "import menzalib as mz\n",
    "import numpy as np\n",
    "import pylab as pl\n",
    "import scipy.optimize\n",
    "%matplotlib qt\n",
    "\n",
    "def f(x, a, b): return a*x+b\n",
    "\n",
    "y1 = np.array([28.5, 44.5, 58])\n",
    "y2 = np.array([22.5, 32.5, 39])\n",
    "y3 = np.array([25.5, 46.5, 68.5])\n",
    "y = (y1+y2+y3)/3\n",
    "dy = np.std([y1, y2, y3], axis=0)/np.sqrt(3)\n",
    "print(y, dy)\n",
    "x = np.array([2,3])\n",
    "y = np.ediff1d(y)\n",
    "dy = [dy[1]+dy[0], dy[2]+dy[1]]\n",
    "\n",
    "popt, pcov = scipy.optimize.curve_fit(f, x, y, sigma=dy, absolute_sigma=True)\n",
    "print(f(0.5, *popt), np.sqrt(pcov))"
   ]
  },
  {
   "cell_type": "code",
   "execution_count": 3,
   "metadata": {},
   "outputs": [],
   "source": [
    "pl.figure()\n",
    "pl.xlabel(\"Numero banda\")\n",
    "pl.ylabel(\"U$_A$\")\n",
    "pl.errorbar(x, y, dy, fmt='o', label=\"Misure\")\n",
    "pl.plot(x, f(x, *popt), label=\"Fit\")\n",
    "pl.legend()\n",
    "pl.show()"
   ]
  },
  {
   "cell_type": "code",
   "execution_count": 3,
   "metadata": {},
   "outputs": [],
   "source": [
    "UE, dUE = [8.5, 7.3, 2.2, 0.8], [0.1, 0.1, 0.1, 0.1]\n",
    "max1 = [1.92, 1.84, 1.84, 1.84]\n",
    "min1 = [2.64, 2.56, 2.08, 1.92]\n",
    "max2 = [3.68, 3.60, 3.52, 0.]\n",
    "min2 = [4.40, 4.32, 3.76, 0.]\n",
    "max3 = [5.68, 5.68, 0., 0.]\n",
    "min3 = [6.48, 6.24, 0., 0.]\n",
    "max4 = [7.84, 0., 0., 0.]\n",
    "\n",
    "a = mz.dVosc(np.concatenate([max1, min1, max2, min2, max3, min3, max4]))\n",
    "dmax1, dmin1, dmax2, dmin2, dmax3, dmin3, dmax4 = a[0:4], a[4:8], a[8:12], a[12:16], a[16:20], a[20:24], a[24:28]\n",
    "\n",
    "a = np.array([UE, max1, min1, max2, min2, max3, min3, max4])\n",
    "da = np.array([dUE, dmax1, dmin1, dmax2, dmin2, dmax3, dmin3, dmax4])\n",
    "\n",
    "#mz.mat_tex(mz.ne_tex(a, da), titolo=\"U\\ped{E} & max1 & min1 & max2 & min2 & max3 & min3 & max4\")"
   ]
  },
  {
   "cell_type": "code",
   "execution_count": 36,
   "metadata": {},
   "outputs": [],
   "source": [
    "x = a[0, ::-1]-9\n",
    "pl.figure()\n",
    "pl.xlabel(\"U$_E$ [V]\")\n",
    "pl.ylabel(\"U$_A$ [V]\")\n",
    "pl.errorbar(x, a[1], fmt=\"s\", label=\"max1\")\n",
    "pl.errorbar(x, a[2], fmt=\"d\", label=\"min1\")\n",
    "pl.errorbar(x[:3], a[3, :3], fmt=\"^\", label=\"max2\")\n",
    "pl.errorbar(x[:3], a[4, :3], fmt=\"o\", label=\"min2\")\n",
    "pl.legend()\n",
    "pl.show()"
   ]
  },
  {
   "cell_type": "code",
   "execution_count": 13,
   "metadata": {},
   "outputs": [
    {
     "name": "stdout",
     "output_type": "stream",
     "text": [
      "[[ 0.04947865 -0.1224917 ]\n",
      " [-0.1224917   0.32722095]]\n",
      "14.490524919424898 0.6832512828301709\n"
     ]
    },
    {
     "data": {
      "image/png": "[encoded data removed]",
      "text/plain": [
       "<Figure size 432x288 with 1 Axes>"
      ]
     },
     "metadata": {
      "needs_background": "light"
     },
     "output_type": "display_data"
    }
   ],
   "source": [
    "def f(x,a,b):\n",
    "    return a*x+b\n",
    "\n",
    "min1, min2 = a[:,0][1::2], a[:,0][1::2]\n",
    "dmin1, dmin2 = mz.dVosc(min1)*10, mz.dVosc(min2)*10\n",
    "min1, min2 = min1*10, min2*10\n",
    "x=np.array([2,3,4])\n",
    "y=np.ediff1d(min2)\n",
    "dy=[dmin2[1]+dmin2[0], dmin2[2]+dmin2[1], dmin2[3]+dmin2[2]]\n",
    "\n",
    "popt, pcov, dpopt, _, _ = mz.curve_fitdx(f, x, y, dy=dy, chi2pval=True)\n",
    "print(f(0.5, *popt), df(0.5, *popt, *dpopt))\n",
    "pl.errorbar(x,y, dy, fmt='o')\n",
    "pl.show()"
   ]
  },
  {
   "cell_type": "code",
   "execution_count": 43,
   "metadata": {},
   "outputs": [
    {
     "name": "stdout",
     "output_type": "stream",
     "text": [
      "[[ 0.          0.          0.        ]\n",
      " [ 0.          0.05221288 -0.15155544]\n",
      " [ 0.         -0.15155544  0.47471454]]\n",
      "14.684110784610652 0.33621232153158576\n"
     ]
    }
   ],
   "source": [
    "def f(x,a,b):\n",
    "    return a*x+b\n",
    "\n",
    "min1, min2 = a[:,0][1::2], a[:,0][1::2]\n",
    "dmin1, dmin2 = mz.dVosc(min1)*10, mz.dVosc(min2)*10\n",
    "min1, min2 = min1*10, min2*10\n",
    "x=np.array([2,3,4])\n",
    "y=np.ediff1d(min2)\n",
    "dy=[dmin2[1]+dmin2[0], dmin2[2]+dmin2[1], dmin2[3]+dmin2[2]]\n",
    "dy = mz.dVosc(y)\n",
    "\n",
    "popt, pcov, dpopt, _, _ = mz.curve_fitdx(f, x, y, dy=dy, chi2pval=True)\n",
    "cov = np.zeros((3,3))\n",
    "cov[1:, 1:] = pcov\n",
    "print(cov)\n",
    "df = mz.dy(f, (0.5, *popt), cov)\n",
    "print(f(0.5, *popt), df)\n",
    "\n",
    "t = np.linspace(0, 4, 10)\n",
    "pl.figure()\n",
    "pl.xlabel(\"ordine n\")\n",
    "pl.ylabel(\"$\\Delta$E [V]\")\n",
    "pl.errorbar(x,y, dy, fmt='.', label=\"Misure $\\Delta$E\")\n",
    "pl.plot(t, f(t, *popt), label=\"Fit\")\n",
    "pl.plot([0.5, 0.5], [13.5, 18])\n",
    "pl.plot([0.5], f(0.5,*popt), 'x', markersize=\"11\", label=\"punto n=0.5\")\n",
    "pl.legend()\n",
    "pl.show()"
   ]
  },
  {
   "cell_type": "code",
   "execution_count": 44,
   "metadata": {},
   "outputs": [
    {
     "name": "stdout",
     "output_type": "stream",
     "text": [
      "['$2.0$ $\\\\pm$ $0.2$' '$13.7$ $\\\\pm$ $0.7$']\n"
     ]
    }
   ],
   "source": [
    "print(mz.ne_tex(popt, dpopt))"
   ]
  }
 ],
 "metadata": {
  "kernelspec": {
   "display_name": "Python 3",
   "language": "python",
   "name": "python3"
  },
  "language_info": {
   "codemirror_mode": {
    "name": "ipython",
    "version": 3
   },
   "file_extension": ".py",
   "mimetype": "text/x-python",
   "name": "python",
   "nbconvert_exporter": "python",
   "pygments_lexer": "ipython3",
   "version": "3.7.0"
  }
 },
 "nbformat": 4,
 "nbformat_minor": 2
}
